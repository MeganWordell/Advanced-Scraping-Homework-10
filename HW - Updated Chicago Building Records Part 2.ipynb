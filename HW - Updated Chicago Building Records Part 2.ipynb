{
 "cells": [
  {
   "cell_type": "markdown",
   "metadata": {},
   "source": [
    "# Chicago Building Permits, Part 2\n",
    "\n",
    "You'll find the [Selenium-Playwright conversion reference](https://jonathansoma.com/everything/scraping/selenium-playwright-conversion/) helpful for clicking, entering text, and selecting from dropdowns.\n",
    "\n",
    "**Use Playwright or Selenium to visit https://webapps1.chicago.gov/buildingrecords/ and accept the agreement.**"
   ]
  },
  {
   "cell_type": "code",
   "execution_count": null,
   "metadata": {},
   "outputs": [],
   "source": []
  },
  {
   "cell_type": "code",
   "execution_count": null,
   "metadata": {},
   "outputs": [],
   "source": []
  },
  {
   "cell_type": "code",
   "execution_count": null,
   "metadata": {},
   "outputs": [],
   "source": []
  },
  {
   "cell_type": "markdown",
   "metadata": {},
   "source": [
    "# Clicking links for inspection details\n",
    "\n",
    "This one is real... fun? and is what we spent some time on Wednesday. You should keep a copy of the classwork handy so you can see where we use `await` and where we don't.\n",
    "\n",
    "## Getting our results page\n",
    "\n",
    "As always, click the search link and search for **400 E 41ST ST**."
   ]
  },
  {
   "cell_type": "code",
   "execution_count": null,
   "metadata": {},
   "outputs": [],
   "source": []
  },
  {
   "cell_type": "code",
   "execution_count": null,
   "metadata": {},
   "outputs": [],
   "source": []
  },
  {
   "cell_type": "code",
   "execution_count": null,
   "metadata": {},
   "outputs": [],
   "source": []
  },
  {
   "cell_type": "markdown",
   "metadata": {},
   "source": [
    "## Finding all of the inspection links\n",
    "\n",
    "Use `.locator` to select all of the links in the inspections table. Save them as a variable called `links`."
   ]
  },
  {
   "cell_type": "code",
   "execution_count": null,
   "metadata": {},
   "outputs": [],
   "source": []
  },
  {
   "cell_type": "markdown",
   "metadata": {},
   "source": [
    "Count them to confirm there are around 160-170\n",
    "\n",
    "```python\n",
    "count = await links.count()\n",
    "count\n",
    "```"
   ]
  },
  {
   "cell_type": "code",
   "execution_count": null,
   "metadata": {},
   "outputs": [],
   "source": []
  },
  {
   "cell_type": "markdown",
   "metadata": {},
   "source": [
    "## Clicking the first one\n",
    "\n",
    "Use `links.nth(0)` to grab the first link. Click the first link."
   ]
  },
  {
   "cell_type": "code",
   "execution_count": null,
   "metadata": {},
   "outputs": [],
   "source": []
  },
  {
   "cell_type": "markdown",
   "metadata": {},
   "source": [
    "## OH NO IT OPENED UP A NEW WINDOW!!!\n",
    "\n",
    "Close it. *Close it!!!* It's hard to talk about it in the way we clicked.\n",
    "\n",
    "```python\n",
    "# Click the link while expecting a new tab or window to open\n",
    "async with page.expect_popup() as popup_info:\n",
    "    await LINK CLICKING CODE GOES HERE \n",
    "\n",
    "# Grab the new page and wait for it to load\n",
    "new_page = await popup_info.value\n",
    "await new_page.wait_for_load_state()\n",
    "```\n",
    "\n",
    "Now you can use `await new_page.content()` for stuff on the new page."
   ]
  },
  {
   "cell_type": "code",
   "execution_count": null,
   "metadata": {},
   "outputs": [],
   "source": []
  },
  {
   "cell_type": "markdown",
   "metadata": {},
   "source": [
    "## Checking for violations\n",
    "\n",
    "I clicked around a *lot* and couldn't find any listings with violations. How are we supposed to scrape it???\n",
    "\n",
    "### See if the page says `no Alleged Code Violation records` somewhere on it\n",
    "\n",
    "You can look at the page source, you can use `.get_by_text` and `count()`, you can do whatever you want."
   ]
  },
  {
   "cell_type": "code",
   "execution_count": null,
   "metadata": {},
   "outputs": [],
   "source": []
  },
  {
   "cell_type": "markdown",
   "metadata": {},
   "source": [
    "### Write a conditional\n",
    "\n",
    "If \"no Alleged Code Violation records\" shows up on the page, print `no violations`. Otherwise, print `has violations`."
   ]
  },
  {
   "cell_type": "code",
   "execution_count": null,
   "metadata": {},
   "outputs": [],
   "source": []
  },
  {
   "cell_type": "markdown",
   "metadata": {},
   "source": [
    "### Close the new page\n",
    "\n",
    "You can use this code:\n",
    "\n",
    "```python\n",
    "await new_page.close()\n",
    "```"
   ]
  },
  {
   "cell_type": "code",
   "execution_count": null,
   "metadata": {},
   "outputs": [],
   "source": []
  },
  {
   "cell_type": "markdown",
   "metadata": {},
   "source": [
    "### Finding a page with violations\n",
    "\n",
    "Loop through the first... 30? pages to see if we can find one that has violations on it.\n",
    "\n",
    "```python\n",
    "for i in range(30):\n",
    "    # 1. Click the ith link to open up the new page\n",
    "    # 2. Save the text of the inspection link as insp_no, and print it out\n",
    "    #       just so we can keep track\n",
    "    # 3. Check if there are violations on that page\n",
    "    # 4. If there aren't, close the new page (make sure you use await)\n",
    "    # 5. If there are, use 'break' to exit the loop so we can look at it\n",
    "```"
   ]
  },
  {
   "cell_type": "code",
   "execution_count": null,
   "metadata": {},
   "outputs": [],
   "source": []
  },
  {
   "cell_type": "markdown",
   "metadata": {},
   "source": [
    "### Hooray! It should have stopped on a page. Convert the inspections into a dataframe named `df`\n",
    "\n",
    "You can use `pd.read_html`, just remember you're getting this content from the new page, not the original page. Use `header=1` to skip the first **Inspection #** header that kind of gets in the way."
   ]
  },
  {
   "cell_type": "code",
   "execution_count": null,
   "metadata": {},
   "outputs": [],
   "source": []
  },
  {
   "cell_type": "code",
   "execution_count": null,
   "metadata": {},
   "outputs": [],
   "source": []
  },
  {
   "cell_type": "markdown",
   "metadata": {},
   "source": [
    "### Saving inspection records\n",
    "\n",
    "Convert your `for i in range(30)` code above:\n",
    "\n",
    "Instead of exiting the loop when it finds violations,\n",
    "\n",
    "1. Create a dataframe from the violations\n",
    "2. Add a new column called 'insp_no' to it with the inspection number\n",
    "3. Save the dataframe to a list of dataframes\n",
    "4. Close the new page (previously we only did it if we found no violations)\n",
    "5. Use pd.concat to combine the dataframes into a big dataframe"
   ]
  },
  {
   "cell_type": "code",
   "execution_count": null,
   "metadata": {},
   "outputs": [],
   "source": []
  },
  {
   "cell_type": "markdown",
   "metadata": {},
   "source": [
    "The completed dataframe **should have around 60 rows**, and the first few rows should look something like\n",
    "\n",
    "|VIOLATIONS|BUILDING CODE CITATION|VIOLATION DETAILS|insp_no|\n",
    "|---|---|---|---|\n",
    "|0|EV1110|Failed to maintain electric elevator equipment...|Reinspection required. No Show|13808208|\n",
    "|1|EV1110|Failed to maintain electric elevator equipment...|Upgrade fire Service phase 2, all Elevators. N...|13748085|\n",
    "|2|EV1110|Failed to maintain electric elevator equipment...|Provide SAFE access to all Elevators|13748085|"
   ]
  },
  {
   "cell_type": "code",
   "execution_count": null,
   "metadata": {},
   "outputs": [],
   "source": []
  },
  {
   "cell_type": "code",
   "execution_count": null,
   "metadata": {},
   "outputs": [],
   "source": []
  },
  {
   "cell_type": "markdown",
   "metadata": {},
   "source": [
    "## Put it all into one cell\n",
    "\n",
    "And scrape all of the inspection violations for `400 E 41ST ST`, saving them into a file called `violations-400 E 41ST ST.csv`\n",
    "\n",
    "You're pretty much just taking the above and\n",
    "\n",
    "1. Adding the search + link locator\n",
    "2. Adding a time.sleep since sometimes it takes some time to load\n",
    "3. Doing all of them instead of just 30\n",
    "4. Saving at the very very end"
   ]
  },
  {
   "cell_type": "code",
   "execution_count": null,
   "metadata": {},
   "outputs": [],
   "source": []
  },
  {
   "cell_type": "markdown",
   "metadata": {},
   "source": [
    "## Convert it into a function called `get_violations`\n",
    "\n",
    "Test with\n",
    "\n",
    "```python\n",
    "await get_violations('25 W Randolph St')\n",
    "```\n",
    "\n",
    "Confirm it creates the file and saves it."
   ]
  },
  {
   "cell_type": "code",
   "execution_count": null,
   "metadata": {},
   "outputs": [],
   "source": []
  },
  {
   "cell_type": "markdown",
   "metadata": {},
   "source": [
    "# Wrapping it all up\n",
    "\n",
    "Now that we know this all works, we can run it in **headless mode**. Headless mode means you can't see the browser doing anything.\n",
    "\n",
    "## Going headless\n",
    "\n",
    "Typically we use `headless=False` because we need to see the browser to debug, and it's fun to watch the browser click around and navigate. `headless=True` allows it to run in the background and not disturb the work you're doing \n",
    "\n",
    "**Launch a new browser window** that has `headless=True`, and then use that to scrape any of the above content again. Feel free to pick some other addresses from Chicago, etc etc etc (I was using [rent.com listings](https://www.rent.com/illinois/chicago-apartments)).\n",
    "\n",
    "```python\n",
    "import asyncio\n",
    "from playwright.async_api import async_playwright\n",
    "\n",
    "# Visit a page using chromium (could also do .firefox or .webkit)\n",
    "playwright = await async_playwright().start()\n",
    "browser = await playwright.chromium.launch(headless = True)\n",
    "page = await browser.new_page()\n",
    "\n",
    "await page.goto(\"https://webapps1.chicago.gov/buildingrecords/\")\n",
    "await page.locator(\"#rbnAgreement1\").click()\n",
    "await page.locator(\"#submit\").click()\n",
    "```\n",
    "\n",
    "In \"real life\" we'd definitely put this in a brand-new notebook, but..."
   ]
  },
  {
   "cell_type": "code",
   "execution_count": null,
   "metadata": {},
   "outputs": [],
   "source": []
  },
  {
   "cell_type": "markdown",
   "metadata": {},
   "source": [
    "## A scraping hydra\n",
    "\n",
    "If you wanted to get exceptionally fancy, you could also have a `scrape_all` function that takes in an address, and then scrapes permits, inspections, *and* violations, one after the other... I won't make you do that, though."
   ]
  },
  {
   "cell_type": "code",
   "execution_count": null,
   "metadata": {},
   "outputs": [],
   "source": []
  }
 ],
 "metadata": {
  "kernelspec": {
   "display_name": "Python 3 (ipykernel)",
   "language": "python",
   "name": "python3"
  },
  "language_info": {
   "codemirror_mode": {
    "name": "ipython",
    "version": 3
   },
   "file_extension": ".py",
   "mimetype": "text/x-python",
   "name": "python",
   "nbconvert_exporter": "python",
   "pygments_lexer": "ipython3",
   "version": "3.10.3"
  }
 },
 "nbformat": 4,
 "nbformat_minor": 4
}
