{
 "cells": [
  {
   "cell_type": "markdown",
   "metadata": {},
   "source": [
    "# Chicago Building Permits, Part 1\n",
    "\n",
    "You'll find the [Selenium-Playwright conversion reference](https://jonathansoma.com/everything/scraping/selenium-playwright-conversion/) helpful for clicking, entering text, and selecting from dropdowns.\n",
    "\n",
    "**Use Playwright or Selenium to visit https://webapps1.chicago.gov/buildingrecords/ and accept the agreement.**"
   ]
  },
  {
   "cell_type": "code",
   "execution_count": 9,
   "metadata": {},
   "outputs": [],
   "source": [
    "from playwright.async_api import async_playwright\n",
    "playwright = await async_playwright().start()\n",
    "browser = await playwright.chromium.launch(headless = False)\n",
    "page = await browser.new_page()"
   ]
  },
  {
   "cell_type": "code",
   "execution_count": 10,
   "metadata": {},
   "outputs": [
    {
     "data": {
      "text/plain": [
       "<Response url='https://webapps1.chicago.gov/buildingrecords/' request=<Request url='https://webapps1.chicago.gov/buildingrecords/' method='GET'>>"
      ]
     },
     "execution_count": 10,
     "metadata": {},
     "output_type": "execute_result"
    }
   ],
   "source": [
    "url = \"https://webapps1.chicago.gov/buildingrecords/\"\n",
    "await page.goto(url)"
   ]
  },
  {
   "cell_type": "code",
   "execution_count": 14,
   "metadata": {},
   "outputs": [
    {
     "ename": "AttributeError",
     "evalue": "'Page' object has no attribute 'getByLabel'",
     "output_type": "error",
     "traceback": [
      "\u001b[0;31m---------------------------------------------------------------------------\u001b[0m",
      "\u001b[0;31mAttributeError\u001b[0m                            Traceback (most recent call last)",
      "Cell \u001b[0;32mIn [14], line 5\u001b[0m\n\u001b[1;32m      1\u001b[0m \u001b[38;5;66;03m#await page.locator(\"rbnAgreement1\").select_option(\"agreement\")\u001b[39;00m\n\u001b[1;32m      2\u001b[0m \u001b[38;5;66;03m#await page.getByLabel('I accept the terms of this license').check();\u001b[39;00m\n\u001b[1;32m      3\u001b[0m \u001b[38;5;66;03m#expect(await page.getByLabel('I accept the terms of this license').isChecked()).toBeTruthy()\u001b[39;00m\n\u001b[0;32m----> 5\u001b[0m \u001b[38;5;28;01mawait\u001b[39;00m \u001b[43mpage\u001b[49m\u001b[38;5;241;43m.\u001b[39;49m\u001b[43mgetByLabel\u001b[49m(\u001b[38;5;124m'\u001b[39m\u001b[38;5;124mLG\u001b[39m\u001b[38;5;124m'\u001b[39m)\u001b[38;5;241m.\u001b[39mcheck();\n",
      "\u001b[0;31mAttributeError\u001b[0m: 'Page' object has no attribute 'getByLabel'"
     ]
    }
   ],
   "source": [
    "#await page.locator(\"rbnAgreement1\").select_option(\"agreement\")\n",
    "#await page.getByLabel('I accept the terms of this license').check();\n",
    "#expect(await page.getByLabel('I accept the terms of this license').isChecked()).toBeTruthy()\n",
    "\n",
    "await page.getByLabel('LG').check();"
   ]
  },
  {
   "cell_type": "markdown",
   "metadata": {},
   "source": [
    "# Part 1: Building permits\n",
    "\n",
    "**Topics:** Completing forms, reading tables, saving one CSV for every row in a dataframe\n",
    "\n",
    "## Searching\n",
    "\n",
    "Search for **400 E 41ST ST**. It might be useful later to save it as a variable called `address`.\n",
    "\n",
    "The Playwright documentation [suggests using `.fill` to fill in text form fields](https://playwright.dev/docs/input), but it won't work in this case: the website won't let you click submit until it \"sees\" you type on the keyboard. [Luckily there's a SECOND way of doing it with Playwright](https://playwright.dev/docs/input#type-characters)."
   ]
  },
  {
   "cell_type": "code",
   "execution_count": null,
   "metadata": {},
   "outputs": [],
   "source": []
  },
  {
   "cell_type": "code",
   "execution_count": null,
   "metadata": {},
   "outputs": [],
   "source": []
  },
  {
   "cell_type": "markdown",
   "metadata": {},
   "source": [
    "## Saving the permits table\n",
    "\n",
    "Use pandas to save a CSV of all **permits** to `permits-400 E 41ST ST.csv`. Note that there are **different sections of the page**, not just one long permits table!\n",
    "\n",
    "> - *Tip: When using `.read_html`, try using `flavor='lxml'` and comparing the results to `flavor='html5lib'`. Which works better?*\n",
    "> - *Tip: You might need to install `html5lib` using `pip`. If so, you'll need to restart the notebook using **Kernel > Restart** before it will work.*"
   ]
  },
  {
   "cell_type": "code",
   "execution_count": null,
   "metadata": {},
   "outputs": [],
   "source": []
  },
  {
   "cell_type": "code",
   "execution_count": null,
   "metadata": {},
   "outputs": [],
   "source": []
  },
  {
   "cell_type": "code",
   "execution_count": null,
   "metadata": {},
   "outputs": [],
   "source": []
  },
  {
   "cell_type": "markdown",
   "metadata": {},
   "source": [
    "## Moving it all into one cell\n",
    "\n",
    "Now let's try getting a permits for the address `3444 North Elaine Place`.\n",
    "\n",
    "Move the code from the sections above into **one cell** that both searches *and* saves.\n",
    "\n",
    "* **Tip:** You CAN'T just click the back button to go back to the search page! You **must** click the **Search** link in the top left-hand corner (you can do it manually this time)\n",
    "* **Tip:** If you get the error **No tables found** it's because unlike playwright, pandas doesn't have a timeout where it waits for the page to load. You can use `await page.locator(\"table\").wait_for()` to wait for the table to show up before processing with pandas."
   ]
  },
  {
   "cell_type": "code",
   "execution_count": null,
   "metadata": {},
   "outputs": [],
   "source": []
  },
  {
   "cell_type": "code",
   "execution_count": null,
   "metadata": {},
   "outputs": [],
   "source": []
  },
  {
   "cell_type": "markdown",
   "metadata": {},
   "source": [
    "## Turning your code into a function\n",
    "\n",
    "Convert that code into a function called `get_permits` that takes does the following:\n",
    " \n",
    "1. Takes an address\n",
    "2. Prints that it's about to work on the address\n",
    "3. Clicks the \"Search\" button on the top left of the page\n",
    "4. Downloads the permits to a CSV.\n",
    "\n",
    "Test it by running the code below:\n",
    "\n",
    "```python\n",
    "# Skip the await/async parts if you're using Selenium\n",
    "await get_permits('25 W Randolph St')\n",
    "```\n",
    "\n",
    "Confirm that `permits-25 W Randolph St.csv` is saved and *it isn't the same content as the other permit files.*\n",
    "\n",
    "* **Tip:** When you use `await` inside of a function, instead of `def` you name it with `async def`. And then when you use it you call it with `await`. We're fancy playwright people now!\n",
    "* **Tip:** We usually use `.locator` with fancy ids and classes and stuff, but `.get_by_text` is going to be a lot easier for the search button! If you get a \"multiple elements found\" issue [check the documentation](https://playwright.dev/python/docs/api/class-page#page-get-by-text)"
   ]
  },
  {
   "cell_type": "code",
   "execution_count": null,
   "metadata": {},
   "outputs": [],
   "source": []
  },
  {
   "cell_type": "code",
   "execution_count": null,
   "metadata": {},
   "outputs": [],
   "source": []
  },
  {
   "cell_type": "code",
   "execution_count": null,
   "metadata": {},
   "outputs": [],
   "source": []
  },
  {
   "cell_type": "markdown",
   "metadata": {},
   "source": [
    "## Loops in pandas without `.apply`\n",
    "\n",
    "It's honestly a pain to use `.apply` with async functions, so here's a secret: if you want to do a loop with a pandas dataframe, you can use `.iterrows()`.\n",
    "\n",
    "```python\n",
    "for index, row in buildings_df.iterrows():\n",
    "    print(row['address'])\n",
    "```\n",
    "\n",
    "Use `.iterrows()` to run the async `get_permits` function for each row of our dataframe. *If we were scraping the page with Selenium or requests + BeautifulSoup we wouldn't need to do this.*"
   ]
  },
  {
   "cell_type": "code",
   "execution_count": null,
   "metadata": {},
   "outputs": [],
   "source": []
  },
  {
   "cell_type": "code",
   "execution_count": null,
   "metadata": {},
   "outputs": [],
   "source": []
  },
  {
   "cell_type": "markdown",
   "metadata": {},
   "source": [
    "# Part 2: More complex tables\n",
    "\n",
    "Now we want to save a CSV of all DOB inspections.\n",
    "\n",
    "This is more complicated than the last one because **we also need to save the URL to the inspection** (see how the inspection number is a link?). As a result, you won't be able to use pandas! Instead, you'll need to use a loop and create a list of dictionaries.\n",
    "\n",
    "You can use Playwright itself or you can feed the source to BeautifulSoup. You should have approximately 160 rows.\n",
    "\n",
    "## Search for `400 E 41ST ST` and save a dataframe of inspection details\n",
    "\n",
    "Include the following fields:\n",
    "\n",
    "* Inspection number\n",
    "* Inspection date\n",
    "* Status\n",
    "* Description\n",
    "* URL link\n",
    "\n",
    "**Tip:** Again, pandas won't work since you need the `href` from the link.\n",
    "\n",
    "**Tip:** You'll probably need to find the table first, then the rows inside, then the cells inside of each row. You'll probably use lots of list indexing.\n",
    "\n",
    "**Tip:** Your data will have a lot of `\\t` and `\\n` in it. You can (somewhat) clean that in pandas with `.str.strip()`"
   ]
  },
  {
   "cell_type": "code",
   "execution_count": null,
   "metadata": {},
   "outputs": [],
   "source": []
  },
  {
   "cell_type": "code",
   "execution_count": null,
   "metadata": {},
   "outputs": [],
   "source": []
  },
  {
   "cell_type": "code",
   "execution_count": null,
   "metadata": {},
   "outputs": [],
   "source": []
  },
  {
   "cell_type": "markdown",
   "metadata": {},
   "source": [
    "### Use `.str.strip()` to somewhat clean up the inspection number and inspection date"
   ]
  },
  {
   "cell_type": "code",
   "execution_count": null,
   "metadata": {},
   "outputs": [],
   "source": []
  },
  {
   "cell_type": "markdown",
   "metadata": {},
   "source": [
    "### Make sure the inspection date *looks like a date*\n",
    "\n",
    "Instead of this:\n",
    "\n",
    "```\n",
    "20221004\\n\\t\\t\\t\\t\\t\\t10/04/2022\n",
    "```\n",
    "\n",
    "We want this:\n",
    "\n",
    "```\n",
    "10/04/2022\n",
    "```\n",
    "\n",
    "You can either go back and scrape slightly differently, use regex, split the string... lots of options here."
   ]
  },
  {
   "cell_type": "code",
   "execution_count": null,
   "metadata": {},
   "outputs": [],
   "source": []
  },
  {
   "cell_type": "markdown",
   "metadata": {},
   "source": [
    "### Save the dataframe to `inspections-400 E 41ST ST.csv`\n",
    "\n",
    "Use a variable for the `filename` to make your life easier later on."
   ]
  },
  {
   "cell_type": "code",
   "execution_count": null,
   "metadata": {},
   "outputs": [],
   "source": []
  },
  {
   "cell_type": "markdown",
   "metadata": {},
   "source": [
    "## Put it all into one cell and run it for `3444 North Elaine Place`\n",
    "\n",
    "Start from the point of clicking the **Search** button, and put this bit of code on the first line:\n",
    "\n",
    "```python\n",
    "address = '3444 North Elaine Place'\n",
    "```\n",
    "\n",
    "* **Tip:** I kept getting 0 rows after moving all the code one cell, probably because the page loads in a weird way before it populates the tables. My solution was a hack: if I used `time.sleep(1)` to pause for a moment after submitting but before scraping the rows, everything worked out okay."
   ]
  },
  {
   "cell_type": "code",
   "execution_count": null,
   "metadata": {},
   "outputs": [],
   "source": []
  },
  {
   "cell_type": "markdown",
   "metadata": {},
   "source": [
    "## Move this into a function\n",
    "\n",
    "Move this into a function named `get_inspections`, test with the following code:\n",
    "\n",
    "```python\n",
    "await get_inspections('25 W Randolph St')\n",
    "```\n",
    "\n",
    "Confirm the `inspections-25 W Randolph St.csv` file is created and has the correct information in it.\n",
    "\n",
    "Refer to the previous function section for tips and things to be careful about.\n",
    "\n",
    "* **Tip:** This one has a LOT of inspections, which seems to take longer to load. You might need to change your `time.sleep` line a bit...."
   ]
  },
  {
   "cell_type": "code",
   "execution_count": null,
   "metadata": {},
   "outputs": [],
   "source": []
  },
  {
   "cell_type": "code",
   "execution_count": null,
   "metadata": {},
   "outputs": [],
   "source": []
  },
  {
   "cell_type": "markdown",
   "metadata": {},
   "source": [
    "If you did this with playwright, try it again with BeautifulSoup. What's the difference in speed?"
   ]
  },
  {
   "cell_type": "code",
   "execution_count": null,
   "metadata": {},
   "outputs": [],
   "source": []
  }
 ],
 "metadata": {
  "kernelspec": {
   "display_name": "Python 3 (ipykernel)",
   "language": "python",
   "name": "python3"
  },
  "language_info": {
   "codemirror_mode": {
    "name": "ipython",
    "version": 3
   },
   "file_extension": ".py",
   "mimetype": "text/x-python",
   "name": "python",
   "nbconvert_exporter": "python",
   "pygments_lexer": "ipython3",
   "version": "3.11.0rc2"
  }
 },
 "nbformat": 4,
 "nbformat_minor": 4
}
