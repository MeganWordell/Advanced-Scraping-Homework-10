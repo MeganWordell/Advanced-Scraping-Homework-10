{
 "cells": [
  {
   "cell_type": "markdown",
   "metadata": {},
   "source": [
    "# Mines, Part 2\n",
    "\n",
    "We're interested in [US mine safety](https://www.msha.gov/mine-data-retrieval-system), as always. You can get information about a specific mine by using its Mine ID."
   ]
  },
  {
   "cell_type": "markdown",
   "metadata": {},
   "source": [
    "## Starting up\n",
    "\n",
    "Start up Playwright and open the mine search page."
   ]
  },
  {
   "cell_type": "code",
   "execution_count": null,
   "metadata": {},
   "outputs": [],
   "source": []
  },
  {
   "cell_type": "code",
   "execution_count": null,
   "metadata": {},
   "outputs": [],
   "source": []
  },
  {
   "cell_type": "markdown",
   "metadata": {},
   "source": [
    "## Searching\n",
    "\n",
    "It would be nice to search for the Mine ID `3503590`... but it isn't easy!\n",
    "\n",
    "### First issue\n",
    "\n",
    "When you want to put content on a page, sometimes you have the content on a *different* page and you say \"hey web page, include this *other* web page inside of your content.\" It's like when you embed youtube videos or whatever. This is called an **iframe**.\n",
    "\n",
    "The form on this page contains an **iframe**, which makes everything more complicated.\n",
    "\n",
    "Normally you could get the `input` for the mine entry text like this:\n",
    "\n",
    "```python\n",
    "page.locator('#mstr92 input')\n",
    "```\n",
    "\n",
    "But because it's in an *iframe* you have to first grab the iframe, *then* grab the element. The documentation for playwright gives this as an example:\n",
    "\n",
    "```python\n",
    "# Locate element inside frame\n",
    "# Get frame using any other selector\n",
    "username = page.frame_locator('.frame-class').get_by_label('User Name')\n",
    "username.fill('John')\n",
    "```\n",
    "\n",
    "You find the class or ID of the iframe by using the web inspector, finding your element, and going up up up up up the indented sections until you find `<iframe>`!\n",
    "\n",
    "### Second issue\n",
    "\n",
    "*You can't even use the `input` in this case*. It's a dumb system where you have to click a div that pretends to be a text input, [type on the keyboard](https://playwright.dev/docs/api/class-keyboard), then click some text that shows up and then click submit. It's *awful*.\n",
    "\n",
    "### Okay, now do it\n",
    "\n",
    "Your steps will look something like this:\n",
    "\n",
    "1. Find the iframe\n",
    "2. Find the div inside the iframe you need to click (the one that pretends to be the text box). I used xpath for this one.\n",
    "3. [Type on the keyboard](https://playwright.dev/docs/api/class-keyboard) \n",
    "4. Click the popup that suggests the mine you're interested in\n",
    "5. Click the submit button\n",
    "\n",
    "Using `.get_by_text` is a lot easier than `.locator` for a few of these."
   ]
  },
  {
   "cell_type": "code",
   "execution_count": null,
   "metadata": {},
   "outputs": [],
   "source": []
  },
  {
   "cell_type": "code",
   "execution_count": null,
   "metadata": {},
   "outputs": [],
   "source": []
  },
  {
   "cell_type": "code",
   "execution_count": null,
   "metadata": {},
   "outputs": [],
   "source": []
  },
  {
   "cell_type": "code",
   "execution_count": null,
   "metadata": {},
   "outputs": [],
   "source": []
  },
  {
   "cell_type": "markdown",
   "metadata": {},
   "source": [
    "## Scraping\n",
    "\n",
    "Originally I had people scrape the page, displaying the following **in a dictionary.**\n",
    "\n",
    "- The mine name\n",
    "- The mine status\n",
    "- The mined material\n",
    "- The operator\n",
    "- The current address\n",
    "\n",
    "But this page has changed, oh how it has changed. It's now the most insane page I have ever seen in my life, and the only reason I'm continuing on with writing this assignment is to make you appreciate data cleaning.\n",
    "\n",
    "Here's how we're going to do this: *we're going to get every single bit of information off of the page, all at once, and clean it up later.*\n",
    "\n",
    "1. Find the class that the Mine ID, name, status, etc all share.\n",
    "2. Select them\n",
    "3. Use `.all_text_contents()` to get all of their text\n",
    "4. Pull out the pieces by index and place them into a dictionary"
   ]
  },
  {
   "cell_type": "code",
   "execution_count": null,
   "metadata": {},
   "outputs": [],
   "source": []
  },
  {
   "cell_type": "code",
   "execution_count": null,
   "metadata": {},
   "outputs": [],
   "source": []
  },
  {
   "cell_type": "markdown",
   "metadata": {},
   "source": [
    "After cleaning it up, your data should look like this\n",
    "\n",
    "```python\n",
    "{'name': ': Mobile Crusher #4',\n",
    " 'status': ': Active',\n",
    " 'material': ': Construction Sand and Gravel',\n",
    " 'operator': ': Knife River Materials',\n",
    " 'address': ': 3959 Hamrick Road Central Point OR 97502 '}\n",
    "```\n",
    "\n",
    "**Save it as a variable called `data`**"
   ]
  },
  {
   "cell_type": "code",
   "execution_count": null,
   "metadata": {},
   "outputs": [],
   "source": []
  },
  {
   "cell_type": "markdown",
   "metadata": {},
   "source": [
    "## Move all this into one cell and search for mine 3503594\n",
    "\n",
    "The first line should be `mine_id = 3503594`.\n",
    "\n",
    "The cell should visit the mine data system, type in the mine ID, click submit, and pull the data on the results page into a dictionary called `data`.\n",
    "\n",
    "* **Tip:** You will have to use `str(mine_id)` to type and `.get_by_text` matches. Playwright won't automatically convert from an integer to a string for you! If you have problems on either your typing or waiting lines, that might be your issue.\n",
    "* **Tip:** After you click the 'Submit' button, you need to do something to wait for the updated information to load. I would recommend [waiting for](https://playwright.dev/python/docs/navigations#wait-for-element) something specific to the results page to show up before trying to get the data about the mine. You might need to try a few options before you get something that works."
   ]
  },
  {
   "cell_type": "code",
   "execution_count": null,
   "metadata": {},
   "outputs": [],
   "source": []
  },
  {
   "cell_type": "markdown",
   "metadata": {},
   "source": [
    "The result should look like \n",
    "\n",
    "```python\n",
    "{'name': ': WILLAMETTE PORTABLE #2',\n",
    " 'status': ': Intermittent',\n",
    " 'material': ': Crushed, Broken Stone NEC',\n",
    " 'operator': ': Knife River Corporation-Northwest',\n",
    " 'address': ': 1812 Willow Lake North Keizer OR 97307 '}\n",
    "```"
   ]
  },
  {
   "cell_type": "markdown",
   "metadata": {},
   "source": [
    "## Building your function\n",
    "\n",
    "Convert this into a function called `get_mine_data`. It should take a `mine_id` and return the dictionary. Save the mine under `mine_id` in the dictionary.\n",
    "\n",
    "* **Tip:** You'll need to make it `async def` instead of just `def` since it has await statments in it.\n",
    "* **Tip:** Make sure you're typing `str(mine_id)`, otherwise numbers `get_mine_data('3503595')` will work but `get_mine_data(3503595)` will break!\n",
    "\n",
    "Test it by calling \n",
    "\n",
    "```python\n",
    "await get_mine_data('3503595')\n",
    "```"
   ]
  },
  {
   "cell_type": "code",
   "execution_count": null,
   "metadata": {},
   "outputs": [],
   "source": []
  },
  {
   "cell_type": "code",
   "execution_count": null,
   "metadata": {},
   "outputs": [],
   "source": []
  },
  {
   "cell_type": "markdown",
   "metadata": {},
   "source": [
    "Your result should be a dictionary about a mine named **ROGUE PORTABLE #2**."
   ]
  },
  {
   "cell_type": "markdown",
   "metadata": {},
   "source": [
    "## Getting information on many mines\n",
    "\n",
    "### Reading in our source\n",
    "\n",
    "Using pandas, read in `mines-subset.csv`."
   ]
  },
  {
   "cell_type": "code",
   "execution_count": null,
   "metadata": {},
   "outputs": [],
   "source": []
  },
  {
   "cell_type": "markdown",
   "metadata": {},
   "source": [
    "## Scrape mine data for every single row, saving it in `additional_df`\n",
    "\n",
    "This is how you loop through the rows. We can't use `.apply` since it's an async function (sad, sad, sad).\n",
    "\n",
    "```python\n",
    "for index, row in df.iterrows():\n",
    "    mine_id = str(row['id'])\n",
    "    print(mine_id)\n",
    "```\n",
    "\n",
    "Adjust this code to save the result of `get_mine_data` into a list called `all_data`. You'll be able to convert it into a dataframe with \n",
    "\n",
    "```python\n",
    "df = pd.DataFrame(all_data)\n",
    "df.head()\n",
    "```\n",
    "\n",
    "Save the results as `mine-data.csv`."
   ]
  },
  {
   "cell_type": "code",
   "execution_count": null,
   "metadata": {},
   "outputs": [],
   "source": []
  },
  {
   "cell_type": "markdown",
   "metadata": {},
   "source": [
    "## Let's... make it a little crazier? While we're at it?\n",
    "\n",
    "Each one of those pages takes SO LONG to load. Why can't we search like *four mines at a time?*\n",
    "\n",
    "Because our code is **asynchronous**, we can!\n",
    "\n",
    "1. Copy and paste your code from above, renaming it `get_mine_data_browser`.\n",
    "2. Instead of just using `page.goto` to go to the mine search page, also have it open a new window using `page = await browser.new_page()`\n",
    "3. Close the page just before you `return` at the end of the loop (be sure to `await` it!)\n",
    "\n",
    "Test it with the following lines of code:\n",
    "\n",
    "```python\n",
    "playwright = await async_playwright().start()\n",
    "browser = await playwright.chromium.launch(headless = False)\n",
    "\n",
    "await get_mine_data_browser(2200717)\n",
    "```\n",
    "\n",
    "Confirm that it opens a new window and returns the appropriate data. I purposefully did not put quotation marks around `2200717`, it should still work! If not, you need to type `str(mine_id)`."
   ]
  },
  {
   "cell_type": "code",
   "execution_count": null,
   "metadata": {},
   "outputs": [],
   "source": []
  },
  {
   "cell_type": "code",
   "execution_count": null,
   "metadata": {},
   "outputs": [],
   "source": []
  },
  {
   "cell_type": "markdown",
   "metadata": {},
   "source": [
    "It should open a new browser window and return the expected data:\n",
    "\n",
    "```python\n",
    "{'name': ': Scribner Pit',\n",
    " 'status': ': Active',\n",
    " 'material': ': Construction Sand and Gravel',\n",
    " 'operator': ': APAC, MS Inc.',\n",
    " 'address': ': 40102 Flower Farm Road Hamilton MS 39746 '}\n",
    "```"
   ]
  },
  {
   "cell_type": "markdown",
   "metadata": {
    "collapsed": true
   },
   "source": [
    "### Scrape five pages at a time!\n",
    "\n",
    "Using an edited form of [this code here](https://stackoverflow.com/questions/48483348/how-to-limit-concurrency-with-python-asyncio/61478547#61478547), we can bundle up all of our coroutines from `.apply` and run them 5 at a time. As long as we don't think it'll get us blocked, it's a great way to make our code five times faster!\n",
    "\n",
    "First we adjust the code from that link to enable running multiple functions at the same time (you'll always be able to cut and paste this):\n",
    "\n",
    "```python\n",
    "async def gather_with_concurrency(n, *tasks):\n",
    "    semaphore = asyncio.Semaphore(n)\n",
    " \n",
    "    async def sem_task(task):\n",
    "        async with semaphore:\n",
    "            return await task\n",
    "    return await asyncio.gather(*(sem_task(task) for task in tasks))\n",
    "```\n",
    "\n",
    "Then we build a list of things we want done. In this case, it's sending all of our `df['id']` to `get_mine_data_broser`. Usually we need `await` in front of `get_mine_data_browser` to mean \"actually scrape this page,\" but for now we're just saying ***get ready** to scrape this page, but don't do it yet*.\n",
    "\n",
    "```python\n",
    "tasks = df.id.apply(get_mine_data_browser)\n",
    "tasks\n",
    "```\n",
    "\n",
    "Then we say hey, we have a list of things we want done! Run these, 5 at a time!\n",
    "\n",
    "```python\n",
    "# Prepare a new browser\n",
    "playwright = await async_playwright().start()\n",
    "browser = await playwright.chromium.launch(headless = False)\n",
    "\n",
    "# 5 at a time\n",
    "results = await gather_with_concurrency(5, *tasks)\n",
    "```\n",
    "\n",
    "You can look at the results if you want, then we'll take the list of dicts and convert them into a dataframe!\n",
    "\n",
    "```python\n",
    "df = pd.DataFrame(results)\n",
    "df\n",
    "```"
   ]
  },
  {
   "cell_type": "code",
   "execution_count": null,
   "metadata": {},
   "outputs": [],
   "source": []
  },
  {
   "cell_type": "code",
   "execution_count": null,
   "metadata": {},
   "outputs": [],
   "source": []
  },
  {
   "cell_type": "code",
   "execution_count": null,
   "metadata": {},
   "outputs": [],
   "source": []
  },
  {
   "cell_type": "markdown",
   "metadata": {},
   "source": [
    "Because we moved `page = await browser.new_page()` into the function, each time we run the function it opens a new browser window. As a result, tpying and searching in one window won't conflict with typing and searching in another window!"
   ]
  },
  {
   "cell_type": "code",
   "execution_count": null,
   "metadata": {},
   "outputs": [],
   "source": []
  },
  {
   "cell_type": "code",
   "execution_count": null,
   "metadata": {},
   "outputs": [],
   "source": []
  }
 ],
 "metadata": {
  "kernelspec": {
   "display_name": "Python 3 (ipykernel)",
   "language": "python",
   "name": "python3"
  },
  "language_info": {
   "codemirror_mode": {
    "name": "ipython",
    "version": 3
   },
   "file_extension": ".py",
   "mimetype": "text/x-python",
   "name": "python",
   "nbconvert_exporter": "python",
   "pygments_lexer": "ipython3",
   "version": "3.10.3"
  }
 },
 "nbformat": 4,
 "nbformat_minor": 2
}
